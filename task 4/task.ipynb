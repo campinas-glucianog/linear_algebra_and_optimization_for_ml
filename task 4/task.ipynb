{
 "cells": [
  {
   "cell_type": "markdown",
   "id": "african-guide",
   "metadata": {},
   "source": [
    "# **Tarefa 4**: Álgebra Linear e Otimização para ML -  MO431A\n",
    "Universidade Estadual de Campinas (UNICAMP), Instituto de Computação (IC)\n",
    "\n",
    "Prof. Jacques Wainer, 2021s1\n"
   ]
  },
  {
   "cell_type": "code",
   "execution_count": 1,
   "id": "instructional-bubble",
   "metadata": {},
   "outputs": [
    {
     "name": "stdout",
     "output_type": "stream",
     "text": [
      "265673: Gabriel Luciano Gomes\n",
      "192880: Lucas Borges Rondon\n",
      "265674: Paulo Júnio Reis Rodrigues\n"
     ]
    }
   ],
   "source": [
    "# RA & Name\n",
    "print('265673: ' + 'Gabriel Luciano Gomes')\n",
    "print('192880: ' + 'Lucas Borges Rondon')\n",
    "print('265674: ' + 'Paulo Júnio Reis Rodrigues')"
   ]
  },
  {
   "cell_type": "markdown",
   "id": "becoming-carpet",
   "metadata": {},
   "source": [
    "## Imports necessários para a tarefa"
   ]
  },
  {
   "cell_type": "code",
   "execution_count": 2,
   "id": "unnecessary-palace",
   "metadata": {},
   "outputs": [],
   "source": [
    "import numpy as np\n",
    "\n",
    "from sklearn.svm import SVR\n",
    "from sklearn.model_selection import cross_val_score, KFold, RandomizedSearchCV, GridSearchCV\n",
    "from sklearn.metrics import mean_squared_error\n",
    "\n",
    "from scipy.stats import loguniform, uniform\n",
    "\n",
    "from hyperopt import hp, tpe, fmin, STATUS_OK\n",
    "\n",
    "from pyswarm import pso\n",
    "\n",
    "from cma import CMAEvolutionStrategy\n",
    "\n",
    "from simanneal import Annealer"
   ]
  },
  {
   "cell_type": "markdown",
   "id": "optimum-stake",
   "metadata": {},
   "source": [
    "## Leitura da base de dados"
   ]
  },
  {
   "cell_type": "code",
   "execution_count": 3,
   "id": "social-radiation",
   "metadata": {},
   "outputs": [],
   "source": [
    "X = np.load('db/X.npy')\n",
    "Y = np.load('db/y.npy')"
   ]
  },
  {
   "cell_type": "markdown",
   "id": "prescription-thanksgiving",
   "metadata": {},
   "source": [
    "## Variáveis Globais"
   ]
  },
  {
   "cell_type": "code",
   "execution_count": 4,
   "id": "necessary-geography",
   "metadata": {},
   "outputs": [],
   "source": [
    "# C lower and upper bounds\n",
    "c_lb = -5\n",
    "c_ub = 15\n",
    "\n",
    "# C lower and upper bounds\n",
    "g_lb = -15\n",
    "g_ub = 3\n",
    "\n",
    "#epsilon lower and upper bounds\n",
    "e_lb = 0.05\n",
    "e_ub = 1.0\n",
    "\n",
    "# Base SVM model\n",
    "base_model = SVR(kernel = 'rbf')"
   ]
  },
  {
   "cell_type": "markdown",
   "id": "uniform-collector",
   "metadata": {},
   "source": [
    "## Funções úteis"
   ]
  },
  {
   "cell_type": "markdown",
   "id": "stylish-shanghai",
   "metadata": {},
   "source": [
    "### Computar RMSE"
   ]
  },
  {
   "cell_type": "code",
   "execution_count": 5,
   "id": "optical-heritage",
   "metadata": {},
   "outputs": [],
   "source": [
    "def compute_rmse(scores):\n",
    "    # Compute RMSE\n",
    "    return np.sqrt(np.mean(np.absolute(scores)))  "
   ]
  },
  {
   "cell_type": "markdown",
   "id": "after-period",
   "metadata": {},
   "source": [
    "### Calcular cross val score"
   ]
  },
  {
   "cell_type": "code",
   "execution_count": 6,
   "id": "present-nylon",
   "metadata": {},
   "outputs": [],
   "source": [
    "def hyperopt_train_test(params): \n",
    "    ''' Computes the cross validation score\n",
    "    to be compared in order to identify\n",
    "    the best value\n",
    "    @params: list of params to SVR (C, gamma, epsilon and Kernel)\n",
    "    '''\n",
    "    clf = SVR(**params)\n",
    "    return cross_val_score(clf, X, Y).mean()"
   ]
  },
  {
   "cell_type": "markdown",
   "id": "blank-preview",
   "metadata": {},
   "source": [
    "### SVM Regressor"
   ]
  },
  {
   "cell_type": "code",
   "execution_count": 7,
   "id": "classified-mailman",
   "metadata": {},
   "outputs": [],
   "source": [
    "def compute_SVM_result(c, gamma, epsilon):    \n",
    "    # define cross validation score\n",
    "    cv = KFold(n_splits = 5, random_state = 1, shuffle = True)\n",
    "\n",
    "    # Compute SVM\n",
    "    svr = SVR(kernel = 'rbf', C = c, gamma = gamma, epsilon = epsilon)\n",
    "\n",
    "    # SVM scores\n",
    "    scores = cross_val_score(svr, X, Y, scoring = ('neg_mean_squared_error'), cv = cv) \n",
    "    \n",
    "    show_results(c, gamma, epsilon, compute_rmse(scores))\n",
    "    "
   ]
  },
  {
   "cell_type": "markdown",
   "id": "exposed-daughter",
   "metadata": {},
   "source": [
    "### Exibir resultados"
   ]
  },
  {
   "cell_type": "code",
   "execution_count": 8,
   "id": "ceramic-october",
   "metadata": {},
   "outputs": [],
   "source": [
    "def show_results(c, gamma, epsilon, rmse) :\n",
    "    print('----- Best values of hyperparameters ----- \\n' +\n",
    "      f'C: {round(c, 6)}\\ngamma: {round(gamma, 6)} \\nepsilon: {round(epsilon, 6)} \\n' +\n",
    "      '----- RMSE for given values ----- \\n' + \n",
    "      f'RMSE: {round(rmse, 6)}')"
   ]
  },
  {
   "cell_type": "markdown",
   "id": "sitting-damage",
   "metadata": {},
   "source": [
    "## Random Search"
   ]
  },
  {
   "cell_type": "code",
   "execution_count": 9,
   "id": "derived-hebrew",
   "metadata": {},
   "outputs": [],
   "source": [
    "# Search space\n",
    "space = dict()\n",
    "space['C'] = loguniform(2**c_lb, 2**c_ub)\n",
    "space['gamma'] = loguniform(2**g_lb, 2**g_ub)\n",
    "space['epsilon'] = uniform(e_lb, e_ub)\n",
    "\n",
    "# define search\n",
    "search = RandomizedSearchCV(base_model,\n",
    "                            space,\n",
    "                            n_iter = 125,\n",
    "                            scoring = 'neg_mean_squared_error',\n",
    "                            n_jobs = -1,\n",
    "                            cv = 5,\n",
    "                            random_state = 1)\n",
    "result = search.fit(X, Y)\n",
    "c = result.best_params_['C']\n",
    "g = result.best_params_['gamma']\n",
    "e = result.best_params_['epsilon']"
   ]
  },
  {
   "cell_type": "markdown",
   "id": "checked-sequence",
   "metadata": {},
   "source": [
    "### Resultados obtidos"
   ]
  },
  {
   "cell_type": "code",
   "execution_count": 10,
   "id": "cooked-founder",
   "metadata": {},
   "outputs": [
    {
     "name": "stdout",
     "output_type": "stream",
     "text": [
      "----- Best values of hyperparameters ----- \n",
      "C: 8584.928547\n",
      "gamma: 3.2e-05 \n",
      "epsilon: 0.623679 \n",
      "----- RMSE for given values ----- \n",
      "RMSE: 4.023489\n"
     ]
    }
   ],
   "source": [
    "compute_SVM_result(c, g, e)"
   ]
  },
  {
   "cell_type": "markdown",
   "id": "chief-ownership",
   "metadata": {},
   "source": [
    "## Grid Search"
   ]
  },
  {
   "cell_type": "code",
   "execution_count": 11,
   "id": "rolled-violin",
   "metadata": {},
   "outputs": [],
   "source": [
    "# grid size\n",
    "g_size = 5\n",
    "\n",
    "# Search space\n",
    "space = dict()\n",
    "space['C'] = loguniform.rvs(2**c_lb, 2**c_ub, size = g_size) \n",
    "space['gamma'] = loguniform.rvs(2**g_lb, 2**g_ub, size = g_size)\n",
    "space['epsilon'] = uniform.rvs(e_lb, e_ub, size = g_size)\n",
    "\n",
    "# define search\n",
    "search = GridSearchCV(base_model,\n",
    "                      space,\n",
    "                      scoring = 'neg_mean_squared_error',\n",
    "                      n_jobs = -1,\n",
    "                      cv = 5)\n",
    "\n",
    "result = search.fit(X, Y)\n",
    "c = result.best_params_['C']\n",
    "e = result.best_params_['epsilon']\n",
    "g = result.best_params_['gamma']"
   ]
  },
  {
   "cell_type": "markdown",
   "id": "prime-member",
   "metadata": {},
   "source": [
    "### Resultados obtidos"
   ]
  },
  {
   "cell_type": "code",
   "execution_count": 12,
   "id": "considerable-impossible",
   "metadata": {},
   "outputs": [
    {
     "name": "stdout",
     "output_type": "stream",
     "text": [
      "----- Best values of hyperparameters ----- \n",
      "C: 2145.208037\n",
      "gamma: 5.9e-05 \n",
      "epsilon: 0.276161 \n",
      "----- RMSE for given values ----- \n",
      "RMSE: 4.326304\n"
     ]
    }
   ],
   "source": [
    "compute_SVM_result(c, g, e)"
   ]
  },
  {
   "cell_type": "markdown",
   "id": "supreme-findings",
   "metadata": {},
   "source": [
    "## Bayesian Optimization"
   ]
  },
  {
   "cell_type": "code",
   "execution_count": 13,
   "id": "bridal-intervention",
   "metadata": {},
   "outputs": [],
   "source": [
    "def objective_function_bo(params):\n",
    "    ''' Callable function to compare SVR scores.\n",
    "    For this example, loss will be used.\n",
    "    @params: list of params to SVR (C, gamma, epsilon and Kernel)\n",
    "    '''   \n",
    "    C =  params['C']\n",
    "    gamma = params['gamma']\n",
    "    epsilon = params['epsilon']\n",
    "    acc = hyperopt_train_test({'C': 2**C, 'gamma': 2**gamma, 'epsilon': epsilon})\n",
    "    \n",
    "    return {'loss': -acc, 'status': STATUS_OK}"
   ]
  },
  {
   "cell_type": "code",
   "execution_count": 14,
   "id": "rural-fields",
   "metadata": {
    "scrolled": false
   },
   "outputs": [
    {
     "name": "stdout",
     "output_type": "stream",
     "text": [
      "100%|█████████████████████████████████████████████| 125/125 [03:33<00:00,  1.71s/trial, best loss: -0.8276213557206253]\n"
     ]
    }
   ],
   "source": [
    "space = {\n",
    "    'C': hp.uniform('C', c_lb, c_ub),\n",
    "    'gamma': hp.uniform('gamma', g_lb, g_ub),\n",
    "    'epsilon': hp.uniform('epsilon', e_lb, e_ub)   \n",
    "}\n",
    "\n",
    "best = fmin(objective_function_bo, space, algo = tpe.suggest, max_evals = 125)\n",
    "c = 2** best['C']\n",
    "e = 2** best['epsilon']\n",
    "g = 2** best['gamma']"
   ]
  },
  {
   "cell_type": "markdown",
   "id": "dated-borough",
   "metadata": {},
   "source": [
    "### Resultados obtidos"
   ]
  },
  {
   "cell_type": "code",
   "execution_count": 15,
   "id": "charming-friday",
   "metadata": {},
   "outputs": [
    {
     "name": "stdout",
     "output_type": "stream",
     "text": [
      "----- Best values of hyperparameters ----- \n",
      "C: 20081.964026\n",
      "gamma: 3.2e-05 \n",
      "epsilon: 1.309902 \n",
      "----- RMSE for given values ----- \n",
      "RMSE: 3.976988\n"
     ]
    }
   ],
   "source": [
    "compute_SVM_result(c, g, e)"
   ]
  },
  {
   "cell_type": "markdown",
   "id": "included-policy",
   "metadata": {},
   "source": [
    "## PSO"
   ]
  },
  {
   "cell_type": "code",
   "execution_count": 16,
   "id": "secure-supplier",
   "metadata": {},
   "outputs": [],
   "source": [
    "def objective_function_pso(x):\n",
    "    C, gamma, epsilon = x\n",
    "    kernel =  'rbf'\n",
    "    acc = hyperopt_train_test({'C': 2**C, 'gamma': 2**gamma, 'epsilon': epsilon, 'kernel': kernel})\n",
    "    return -acc"
   ]
  },
  {
   "cell_type": "code",
   "execution_count": 17,
   "id": "least-fellowship",
   "metadata": {},
   "outputs": [
    {
     "name": "stdout",
     "output_type": "stream",
     "text": [
      "Stopping search: maximum iterations reached --> 11\n"
     ]
    }
   ],
   "source": [
    "# upper and lower bounds for C, gamma and epsilon respectively\n",
    "lb = [c_lb, g_lb, e_lb]\n",
    "ub = [c_ub, g_ub, e_ub]\n",
    "\n",
    "xopt, fopt = pso(objective_function_pso, lb, ub, swarmsize = 11, maxiter = 11)\n",
    "\n",
    "c = 2** xopt[0]\n",
    "g = 2** xopt[1]\n",
    "e = xopt[2]"
   ]
  },
  {
   "cell_type": "markdown",
   "id": "alternative-tanzania",
   "metadata": {},
   "source": [
    "### Resultados obtidos"
   ]
  },
  {
   "cell_type": "code",
   "execution_count": 18,
   "id": "encouraging-realtor",
   "metadata": {},
   "outputs": [
    {
     "name": "stdout",
     "output_type": "stream",
     "text": [
      "----- Best values of hyperparameters ----- \n",
      "C: 22121.916813\n",
      "gamma: 3.1e-05 \n",
      "epsilon: 0.180888 \n",
      "----- RMSE for given values ----- \n",
      "RMSE: 4.101285\n"
     ]
    }
   ],
   "source": [
    "compute_SVM_result(c, g, e)"
   ]
  },
  {
   "cell_type": "markdown",
   "id": "absent-spring",
   "metadata": {},
   "source": [
    "## Simulated Annealing"
   ]
  },
  {
   "cell_type": "markdown",
   "id": "important-travel",
   "metadata": {},
   "source": [
    "Classe Filha do Annealing, necessária para funcionamento"
   ]
  },
  {
   "cell_type": "code",
   "execution_count": 19,
   "id": "subjective-percentage",
   "metadata": {},
   "outputs": [],
   "source": [
    "class SimulatedAnnealing(Annealer):\n",
    "    \"\"\"Test annealer to objetctive function\"\"\"\n",
    "    \n",
    "    def __init__(self, state):\n",
    "        super(SimulatedAnnealing, self).__init__(state)\n",
    "    \n",
    "    def move(self):\n",
    "        \"\"\"Swaps params of SVM.\"\"\"\n",
    "        self.state[0] = 2 ** np.random.uniform(low = c_lb, high = c_ub)\n",
    "        self.state[1] = 2 ** np.random.uniform(low = g_lb, high = g_ub)\n",
    "        self.state[2] = np.random.uniform(low = e_lb, high = e_ub)\n",
    "        \n",
    "    def energy(self):\n",
    "        \"\"\"Calculates cross validation score\"\"\"\n",
    "        C, gamma, epsilon = self.state[0], self.state[1], self.state[2]\n",
    "        kernel =  'rbf'\n",
    "        \n",
    "        return self.objective_function_sa({\n",
    "            'C': C,\n",
    "            'gamma': gamma,\n",
    "            'epsilon': epsilon,\n",
    "            'kernel': kernel\n",
    "        })\n",
    "    \n",
    "    def objective_function_sa(self, x):        \n",
    "        acc = hyperopt_train_test(x)        \n",
    "        return -acc"
   ]
  },
  {
   "cell_type": "code",
   "execution_count": 20,
   "id": "lightweight-action",
   "metadata": {},
   "outputs": [
    {
     "name": "stderr",
     "output_type": "stream",
     "text": [
      " Temperature        Energy    Accept   Improve     Elapsed   Remaining\n",
      "     2.50000         -0.79     0.00%     0.00%     0:00:28     0:00:00"
     ]
    }
   ],
   "source": [
    "initial_state = [\n",
    "      2 ** np.random.uniform(low = c_lb, high = c_ub),\n",
    "      2 ** np.random.uniform(low = g_lb, high = g_ub),\n",
    "      np.random.uniform(low = e_lb, high = e_ub)    \n",
    "]\n",
    "\n",
    "sa = SimulatedAnnealing(initial_state)\n",
    "sa.steps = 125\n",
    "\n",
    "xopt, fopt = sa.anneal()\n",
    "c = xopt[0]\n",
    "g = xopt[1]\n",
    "e = xopt[2]"
   ]
  },
  {
   "cell_type": "markdown",
   "id": "southwest-satin",
   "metadata": {},
   "source": [
    "### Resultados obtidos"
   ]
  },
  {
   "cell_type": "code",
   "execution_count": 21,
   "id": "technological-third",
   "metadata": {},
   "outputs": [
    {
     "name": "stdout",
     "output_type": "stream",
     "text": [
      "----- Best values of hyperparameters ----- \n",
      "C: 2715.058986\n",
      "gamma: 6.6e-05 \n",
      "epsilon: 0.393088 \n",
      "----- RMSE for given values ----- \n",
      "RMSE: 4.30675\n"
     ]
    }
   ],
   "source": [
    "compute_SVM_result(c, g, e)"
   ]
  },
  {
   "cell_type": "markdown",
   "id": "assured-highland",
   "metadata": {},
   "source": [
    "## CMA-ES"
   ]
  },
  {
   "cell_type": "code",
   "execution_count": 22,
   "id": "labeled-victoria",
   "metadata": {},
   "outputs": [],
   "source": [
    "def objetive_function_CMA_ES(x):\n",
    "    C, gamma, epsilon = x\n",
    "    kernel =  'rbf'\n",
    "    acc = hyperopt_train_test({'C': 2** (c_lb + C*20),\n",
    "                               'gamma': 2** (g_lb + gamma*18),\n",
    "                               'epsilon': abs(epsilon),\n",
    "                               'kernel': kernel})\n",
    "    return -acc"
   ]
  },
  {
   "cell_type": "code",
   "execution_count": 23,
   "id": "upset-honey",
   "metadata": {},
   "outputs": [
    {
     "name": "stdout",
     "output_type": "stream",
     "text": [
      "(3_w,7)-aCMA-ES (mu_w=2.3,w_1=58%) in dimension 3 (seed=692023, Tue Apr 27 21:22:40 2021)\n",
      "Iterat #Fevals   function value  axis ratio  sigma  min&max std  t[m:s]\n",
      "    1      7 -2.315199708422314e-01 1.0e+00 2.08e-01  2e-01  2e-01 0:00.6\n",
      "    2     14 -3.320906359970631e-01 1.2e+00 2.14e-01  2e-01  2e-01 0:01.1\n",
      "    3     21 -6.616681538101122e-01 1.5e+00 2.40e-01  2e-01  3e-01 0:01.9\n",
      "    4     28 -4.394857983716051e-01 1.7e+00 2.65e-01  2e-01  3e-01 0:10.7\n",
      "    5     35 -8.039246495667275e-01 1.6e+00 4.26e-01  3e-01  5e-01 0:34.0\n",
      "    6     42 -7.403545289565399e-01 1.7e+00 4.57e-01  3e-01  5e-01 0:47.5\n",
      "    7     49 -8.196302081259074e-01 1.8e+00 4.89e-01  3e-01  5e-01 1:00.1\n",
      "    9     63 -8.233516654906345e-01 2.5e+00 5.97e-01  3e-01  8e-01 1:25.2\n",
      "   10     70 -7.586400226082639e-01 3.1e+00 5.58e-01  3e-01  7e-01 1:38.4\n",
      "   11     77 -6.634747558410108e-01 3.2e+00 5.08e-01  2e-01  6e-01 1:52.1\n",
      "   12     84 -8.198820025351490e-01 3.2e+00 5.06e-01  2e-01  6e-01 2:09.0\n",
      "   13     91 -8.295974114681991e-01 3.2e+00 4.99e-01  2e-01  6e-01 2:24.9\n",
      "   14     98 -8.138837583418976e-01 3.2e+00 4.76e-01  2e-01  6e-01 2:37.9\n",
      "   15    105 -8.196443479403580e-01 4.0e+00 3.87e-01  1e-01  5e-01 3:11.5\n",
      "   16    112 -8.276502570702018e-01 4.9e+00 3.58e-01  1e-01  5e-01 3:55.2\n",
      "   17    119 -8.282884659162324e-01 5.4e+00 2.99e-01  8e-02  4e-01 4:34.8\n",
      "   18    126 -8.297361520489789e-01 6.0e+00 2.51e-01  6e-02  3e-01 5:08.7\n",
      "   19    133 -8.240430506975756e-01 6.1e+00 2.01e-01  4e-02  2e-01 5:52.3\n",
      "   20    140 -8.288105243544004e-01 5.9e+00 1.67e-01  4e-02  1e-01 6:27.7\n",
      "   21    147 -8.292921700362971e-01 4.7e+00 1.32e-01  2e-02  1e-01 6:59.4\n",
      "   22    154 -8.298784682262872e-01 4.7e+00 1.12e-01  2e-02  9e-02 7:43.8\n",
      "   23    161 -8.312632365136265e-01 4.6e+00 1.12e-01  2e-02  1e-01 8:23.6\n",
      "   24    168 -8.310541353048487e-01 5.9e+00 1.05e-01  2e-02  9e-02 9:11.0\n",
      "   25    175 -8.324004245997431e-01 5.9e+00 9.21e-02  1e-02  7e-02 9:44.5\n",
      "   26    182 -8.329107206436044e-01 5.6e+00 9.85e-02  1e-02  9e-02 10:24.8\n",
      "   27    189 -8.338952779813829e-01 7.6e+00 1.10e-01  1e-02  1e-01 11:05.7\n",
      "   28    196 -8.330245120877310e-01 8.9e+00 1.23e-01  2e-02  1e-01 12:05.1\n",
      "   29    203 -8.330840041671852e-01 9.9e+00 9.88e-02  1e-02  9e-02 12:57.1\n",
      "   30    210 -8.336916894944840e-01 9.2e+00 1.00e-01  1e-02  1e-01 13:43.7\n",
      "   31    217 -8.338528197596025e-01 9.7e+00 9.13e-02  1e-02  8e-02 14:40.8\n",
      "   32    224 -8.338676368147739e-01 8.7e+00 8.02e-02  9e-03  6e-02 15:51.9\n",
      "   33    231 -8.337940485229380e-01 8.4e+00 6.91e-02  7e-03  5e-02 17:07.7\n",
      "   34    238 -8.338454470263843e-01 8.3e+00 6.47e-02  6e-03  5e-02 18:13.8\n",
      "   35    245 -8.336482249155767e-01 8.1e+00 5.81e-02  5e-03  4e-02 19:19.8\n",
      "   36    252 -8.338511774292681e-01 7.5e+00 4.43e-02  3e-03  3e-02 20:24.8\n",
      "   37    259 -8.339403507527837e-01 8.7e+00 4.04e-02  3e-03  2e-02 21:28.2\n",
      "   38    266 -8.338890394533396e-01 8.8e+00 4.53e-02  4e-03  2e-02 22:27.6\n",
      "   39    273 -8.339660945864326e-01 6.0e+00 3.82e-02  3e-03  2e-02 23:25.2\n",
      "   40    280 -8.339012786707819e-01 6.4e+00 3.27e-02  3e-03  2e-02 24:23.7\n",
      "   41    287 -8.339113640474632e-01 6.4e+00 3.08e-02  2e-03  1e-02 25:24.7\n",
      "   42    294 -8.339612526494264e-01 5.6e+00 2.87e-02  2e-03  1e-02 26:26.6\n",
      "   43    301 -8.339772334409261e-01 5.9e+00 2.64e-02  2e-03  1e-02 27:32.3\n",
      "   44    308 -8.339017570021845e-01 6.5e+00 2.63e-02  2e-03  1e-02 28:28.6\n",
      "   45    315 -8.339161236774103e-01 8.0e+00 3.15e-02  2e-03  1e-02 29:28.0\n",
      "   46    322 -8.340864847659452e-01 7.2e+00 2.91e-02  2e-03  1e-02 30:27.4\n",
      "   47    329 -8.339908162773710e-01 7.4e+00 2.65e-02  2e-03  1e-02 31:26.7\n",
      "   48    336 -8.340247310720701e-01 8.3e+00 2.64e-02  2e-03  1e-02 32:28.9\n",
      "   49    343 -8.339706757686258e-01 7.8e+00 2.81e-02  2e-03  1e-02 33:28.9\n",
      "   50    350 -8.339910494771956e-01 7.8e+00 2.62e-02  1e-03  1e-02 34:28.8\n",
      "   51    357 -8.339462095181496e-01 8.7e+00 2.22e-02  1e-03  1e-02 35:33.6\n",
      "   52    364 -8.339215890052806e-01 9.3e+00 2.57e-02  1e-03  1e-02 36:34.9\n",
      "   53    371 -8.339035745294918e-01 1.2e+01 2.39e-02  1e-03  1e-02 37:33.4\n",
      "   54    378 -8.339089860690626e-01 1.2e+01 2.35e-02  1e-03  1e-02 38:34.5\n",
      "   55    385 -8.339515766497179e-01 1.1e+01 2.39e-02  1e-03  1e-02 39:34.9\n",
      "   56    392 -8.340141763255258e-01 1.0e+01 2.15e-02  1e-03  1e-02 40:32.9\n",
      "   57    399 -8.339929821362009e-01 1.1e+01 1.74e-02  8e-04  7e-03 41:30.7\n",
      "   59    413 -8.339306319761366e-01 1.1e+01 1.75e-02  8e-04  7e-03 43:30.7\n",
      "   60    420 -8.338735781843611e-01 1.3e+01 1.38e-02  6e-04  6e-03 44:41.3\n",
      "   61    427 -8.339814701176573e-01 1.6e+01 1.12e-02  4e-04  4e-03 45:50.2\n",
      "   62    434 -8.339744702736205e-01 1.4e+01 1.18e-02  5e-04  4e-03 46:52.0\n",
      "   63    441 -8.339514680970584e-01 1.4e+01 1.16e-02  4e-04  4e-03 47:54.9\n",
      "   64    448 -8.339355297377370e-01 1.4e+01 1.13e-02  4e-04  4e-03 48:57.2\n",
      "   66    462 -8.339389850754262e-01 1.4e+01 9.39e-03  3e-04  3e-03 51:04.1\n",
      "   67    469 -8.339814871029698e-01 1.3e+01 1.05e-02  4e-04  3e-03 52:07.8\n",
      "   68    476 -8.339413053346357e-01 1.2e+01 1.04e-02  4e-04  3e-03 53:15.2\n",
      "   70    490 -8.340404016169962e-01 1.2e+01 8.97e-03  3e-04  2e-03 55:16.9\n",
      "   72    504 -8.339456067503515e-01 1.0e+01 8.72e-03  3e-04  2e-03 57:30.0\n",
      "   74    518 -8.339570637100742e-01 7.9e+00 7.56e-03  2e-04  2e-03 59:34.3\n",
      "   76    532 -8.339928395365461e-01 7.0e+00 5.93e-03  2e-04  1e-03 61:35.8\n",
      "   78    546 -8.339360340940395e-01 8.8e+00 4.81e-03  2e-04  8e-04 63:42.2\n",
      "   80    560 -8.340093381203697e-01 8.5e+00 4.69e-03  1e-04  8e-04 65:45.1\n",
      "   82    574 -8.339920259474475e-01 9.5e+00 4.44e-03  1e-04  8e-04 67:50.7\n",
      "   84    588 -8.339761550613118e-01 1.0e+01 6.62e-03  2e-04  1e-03 69:55.1\n",
      "   86    602 -8.339249046545995e-01 1.1e+01 5.43e-03  1e-04  1e-03 71:55.3\n",
      "   88    616 -8.339486717224622e-01 1.5e+01 3.76e-03  8e-05  7e-04 73:53.5\n",
      "   90    630 -8.340173131411195e-01 1.4e+01 2.56e-03  4e-05  4e-04 75:55.7\n",
      "   92    644 -8.339961098024264e-01 1.5e+01 2.44e-03  4e-05  3e-04 77:59.0\n",
      "   94    658 -8.339349389074446e-01 1.4e+01 3.66e-03  5e-05  6e-04 80:00.8\n",
      "   96    672 -8.339342244560008e-01 1.6e+01 2.72e-03  4e-05  4e-04 82:08.8\n",
      "   98    686 -8.339801310255759e-01 2.1e+01 4.19e-03  5e-05  8e-04 84:36.8\n",
      "  100    700 -8.339668936875541e-01 1.8e+01 3.92e-03  5e-05  5e-04 86:49.4\n",
      "  102    714 -8.340025792357771e-01 2.1e+01 3.05e-03  3e-05  4e-04 89:18.7\n",
      "  104    728 -8.339863468388551e-01 2.1e+01 3.27e-03  4e-05  4e-04 91:35.2\n",
      "  106    742 -8.340023531448537e-01 2.3e+01 2.92e-03  3e-05  4e-04 93:59.7\n",
      "  108    756 -8.339611267704488e-01 2.2e+01 2.07e-03  2e-05  2e-04 96:15.9\n",
      "  110    770 -8.340263582420210e-01 1.9e+01 1.98e-03  2e-05  2e-04 98:34.6\n",
      "  112    784 -8.339572518880312e-01 1.8e+01 1.62e-03  1e-05  1e-04 100:59.8\n",
      "  114    798 -8.339888703136917e-01 1.6e+01 1.45e-03  9e-06  1e-04 103:19.8\n",
      "  116    812 -8.339348474856715e-01 1.2e+01 1.38e-03  9e-06  8e-05 105:39.3\n",
      "  118    826 -8.339501741135770e-01 8.3e+00 1.14e-03  7e-06  5e-05 107:41.3\n",
      "  120    840 -8.339858527303674e-01 8.1e+00 1.36e-03  8e-06  7e-05 109:45.9\n",
      "  122    854 -8.340007084254794e-01 9.6e+00 1.59e-03  8e-06  7e-05 111:52.5\n",
      "  124    868 -8.339417148773597e-01 1.0e+01 1.77e-03  8e-06  1e-04 113:58.7\n"
     ]
    }
   ],
   "source": [
    "# Define initial bounds\n",
    "lw = [0.0, 0.0, 0.0]\n",
    "up = [1.0, 1.0, 1.0]\n",
    "\n",
    "# Initial values\n",
    "x0 = 3 * [0.05]\n",
    "sigma = 0.25\n",
    "\n",
    "result = CMAEvolutionStrategy(x0, sigma, {'bounds': [lw, up]})\n",
    "result.optimize(objetive_function_CMA_ES, iterations = 125)\n",
    "\n",
    "# extract best hyperparameters values\n",
    "c = 2 ** (c_lb + result.best.x[0] * 20)\n",
    "g = 2 ** (g_lb + result.best.x[1] * 18)\n",
    "e = abs(result.best.x[2])"
   ]
  },
  {
   "cell_type": "markdown",
   "id": "prescription-impression",
   "metadata": {},
   "source": [
    "### Resultados obtidos"
   ]
  },
  {
   "cell_type": "code",
   "execution_count": 24,
   "id": "fatal-hurricane",
   "metadata": {},
   "outputs": [
    {
     "name": "stdout",
     "output_type": "stream",
     "text": [
      "----- Best values of hyperparameters ----- \n",
      "C: 23682.252806\n",
      "gamma: 3.1e-05 \n",
      "epsilon: 0.001736 \n",
      "----- RMSE for given values ----- \n",
      "RMSE: 4.210726\n"
     ]
    }
   ],
   "source": [
    "compute_SVM_result(c, g, e)"
   ]
  }
 ],
 "metadata": {
  "kernelspec": {
   "display_name": "Python 3",
   "language": "python",
   "name": "python3"
  },
  "language_info": {
   "codemirror_mode": {
    "name": "ipython",
    "version": 3
   },
   "file_extension": ".py",
   "mimetype": "text/x-python",
   "name": "python",
   "nbconvert_exporter": "python",
   "pygments_lexer": "ipython3",
   "version": "3.8.6"
  }
 },
 "nbformat": 4,
 "nbformat_minor": 5
}
