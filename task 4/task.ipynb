{
 "cells": [
  {
   "cell_type": "markdown",
   "id": "african-guide",
   "metadata": {},
   "source": [
    "# **Tarefa 4**: Álgebra Linear e Otimização para ML -  MO431A\n",
    "Universidade Estadual de Campinas (UNICAMP), Instituto de Computação (IC)\n",
    "\n",
    "Prof. Jacques Wainer, 2021s1\n"
   ]
  },
  {
   "cell_type": "code",
   "execution_count": 1,
   "id": "instructional-bubble",
   "metadata": {},
   "outputs": [
    {
     "name": "stdout",
     "output_type": "stream",
     "text": [
      "265673: Gabriel Luciano Gomes\n",
      "192880: Lucas Borges Rondon\n",
      "265674: Paulo Júnio Reis Rodrigues\n"
     ]
    }
   ],
   "source": [
    "# RA & Name\n",
    "print('265673: ' + 'Gabriel Luciano Gomes')\n",
    "print('192880: ' + 'Lucas Borges Rondon')\n",
    "print('265674: ' + 'Paulo Júnio Reis Rodrigues')"
   ]
  },
  {
   "cell_type": "markdown",
   "id": "becoming-carpet",
   "metadata": {},
   "source": [
    "## Imports necessários para a tarefa"
   ]
  },
  {
   "cell_type": "code",
   "execution_count": 2,
   "id": "unnecessary-palace",
   "metadata": {},
   "outputs": [],
   "source": [
    "import numpy as np\n",
    "\n",
    "from sklearn.svm import SVR\n",
    "from sklearn.model_selection import cross_val_score, KFold, RandomizedSearchCV, GridSearchCV\n",
    "from sklearn.metrics import mean_squared_error\n",
    "\n",
    "from scipy.stats import loguniform, uniform\n",
    "\n",
    "from hyperopt import hp, tpe, fmin, STATUS_OK\n",
    "\n",
    "from pyswarm import pso\n",
    "\n",
    "from cma import CMAEvolutionStrategy\n",
    "\n",
    "from simanneal import Annealer"
   ]
  },
  {
   "cell_type": "markdown",
   "id": "optimum-stake",
   "metadata": {},
   "source": [
    "## Leitura da base de dados"
   ]
  },
  {
   "cell_type": "code",
   "execution_count": 3,
   "id": "social-radiation",
   "metadata": {},
   "outputs": [],
   "source": [
    "X = np.load('db/X.npy')\n",
    "Y = np.load('db/y.npy')"
   ]
  },
  {
   "cell_type": "markdown",
   "id": "prescription-thanksgiving",
   "metadata": {},
   "source": [
    "## Variáveis Globais"
   ]
  },
  {
   "cell_type": "code",
   "execution_count": 4,
   "id": "necessary-geography",
   "metadata": {},
   "outputs": [],
   "source": [
    "# C lower and upper bounds\n",
    "c_lb = -5\n",
    "c_ub = 15\n",
    "\n",
    "# C lower and upper bounds\n",
    "g_lb = -15\n",
    "g_ub = 3\n",
    "\n",
    "#epsilon lower and upper bounds\n",
    "e_lb = 0.05\n",
    "e_ub = 1.0\n",
    "\n",
    "# Base SVM model\n",
    "base_model = SVR(kernel = 'rbf')"
   ]
  },
  {
   "cell_type": "markdown",
   "id": "uniform-collector",
   "metadata": {},
   "source": [
    "## Funções úteis"
   ]
  },
  {
   "cell_type": "markdown",
   "id": "stylish-shanghai",
   "metadata": {},
   "source": [
    "### Computar RMSE"
   ]
  },
  {
   "cell_type": "code",
   "execution_count": 5,
   "id": "optical-heritage",
   "metadata": {},
   "outputs": [],
   "source": [
    "def compute_rmse(scores):\n",
    "    # Compute RMSE\n",
    "    return np.sqrt(np.mean(np.absolute(scores)))  "
   ]
  },
  {
   "cell_type": "markdown",
   "id": "after-period",
   "metadata": {},
   "source": [
    "### Calcular cross val score"
   ]
  },
  {
   "cell_type": "code",
   "execution_count": 6,
   "id": "present-nylon",
   "metadata": {},
   "outputs": [],
   "source": [
    "def hyperopt_train_test(params): \n",
    "    ''' Computes the cross validation score\n",
    "    to be compared in order to identify\n",
    "    the best value\n",
    "    @params: list of params to SVR (C, gamma, epsilon and Kernel)\n",
    "    '''\n",
    "    clf = SVR(**params)\n",
    "    return cross_val_score(clf, X, Y).mean()"
   ]
  },
  {
   "cell_type": "markdown",
   "id": "blank-preview",
   "metadata": {},
   "source": [
    "### SVM Regressor"
   ]
  },
  {
   "cell_type": "code",
   "execution_count": 7,
   "id": "classified-mailman",
   "metadata": {},
   "outputs": [],
   "source": [
    "def compute_SVM_result(c, gamma, epsilon):    \n",
    "    # define cross validation score\n",
    "    cv = KFold(n_splits = 5, random_state = 1, shuffle = True)\n",
    "\n",
    "    # Compute SVM\n",
    "    svr = SVR(kernel = 'rbf', C = c, gamma = gamma, epsilon = epsilon)\n",
    "\n",
    "    # SVM scores\n",
    "    scores = cross_val_score(svr, X, Y, scoring = ('neg_mean_squared_error'), cv = cv) \n",
    "    \n",
    "    show_results(c, gamma, epsilon, compute_rmse(scores))\n",
    "    "
   ]
  },
  {
   "cell_type": "markdown",
   "id": "exposed-daughter",
   "metadata": {},
   "source": [
    "### Exibir resultados"
   ]
  },
  {
   "cell_type": "code",
   "execution_count": 8,
   "id": "ceramic-october",
   "metadata": {},
   "outputs": [],
   "source": [
    "def show_results(c, gamma, epsilon, rmse) :\n",
    "    print('----- Best values of hyperparameters ----- \\n' +\n",
    "      f'C: {round(c, 6)}\\ngamma: {round(gamma, 6)} \\nepsilon: {round(epsilon, 6)} \\n' +\n",
    "      '----- RMSE for given values ----- \\n' + \n",
    "      f'RMSE: {round(rmse, 6)}')"
   ]
  },
  {
   "cell_type": "markdown",
   "id": "sitting-damage",
   "metadata": {},
   "source": [
    "## Random Search"
   ]
  },
  {
   "cell_type": "code",
   "execution_count": 9,
   "id": "derived-hebrew",
   "metadata": {},
   "outputs": [],
   "source": [
    "# Search space\n",
    "space = dict()\n",
    "space['C'] = loguniform(2**c_lb, 2**c_ub)\n",
    "space['gamma'] = loguniform(2**g_lb, 2**g_ub)\n",
    "space['epsilon'] = uniform(e_lb, e_ub)\n",
    "\n",
    "# define search\n",
    "search = RandomizedSearchCV(base_model,\n",
    "                            space,\n",
    "                            n_iter = 125,\n",
    "                            scoring = 'neg_mean_squared_error',\n",
    "                            n_jobs = -1,\n",
    "                            cv = 5,\n",
    "                            random_state = 1)\n",
    "result = search.fit(X, Y)\n",
    "c = result.best_params_['C']\n",
    "g = result.best_params_['gamma']\n",
    "e = result.best_params_['epsilon']"
   ]
  },
  {
   "cell_type": "markdown",
   "id": "checked-sequence",
   "metadata": {},
   "source": [
    "### Resultados obtidos"
   ]
  },
  {
   "cell_type": "code",
   "execution_count": 10,
   "id": "cooked-founder",
   "metadata": {},
   "outputs": [
    {
     "name": "stdout",
     "output_type": "stream",
     "text": [
      "----- Best values of hyperparameters ----- \n",
      "C: 8584.928547\n",
      "gamma: 3.2e-05 \n",
      "epsilon: 0.623679 \n",
      "----- RMSE for given values ----- \n",
      "RMSE: 4.023489\n"
     ]
    }
   ],
   "source": [
    "compute_SVM_result(c, g, e)"
   ]
  },
  {
   "cell_type": "markdown",
   "id": "chief-ownership",
   "metadata": {},
   "source": [
    "## Grid Search"
   ]
  },
  {
   "cell_type": "code",
   "execution_count": 11,
   "id": "rolled-violin",
   "metadata": {},
   "outputs": [],
   "source": [
    "# grid size\n",
    "g_size = 5\n",
    "\n",
    "# Search space\n",
    "space = dict()\n",
    "space['C'] = loguniform.rvs(2**c_lb, 2**c_ub, size = g_size) \n",
    "space['gamma'] = loguniform.rvs(2**g_lb, 2**g_ub, size = g_size)\n",
    "space['epsilon'] = uniform.rvs(e_lb, e_ub, size = g_size)\n",
    "\n",
    "# define search\n",
    "search = GridSearchCV(base_model,\n",
    "                      space,\n",
    "                      scoring = 'neg_mean_squared_error',\n",
    "                      n_jobs = -1,\n",
    "                      cv = 5)\n",
    "\n",
    "result = search.fit(X, Y)\n",
    "c = result.best_params_['C']\n",
    "e = result.best_params_['epsilon']\n",
    "g = result.best_params_['gamma']"
   ]
  },
  {
   "cell_type": "markdown",
   "id": "prime-member",
   "metadata": {},
   "source": [
    "### Resultados obtidos"
   ]
  },
  {
   "cell_type": "code",
   "execution_count": 12,
   "id": "considerable-impossible",
   "metadata": {},
   "outputs": [
    {
     "name": "stdout",
     "output_type": "stream",
     "text": [
      "----- Best values of hyperparameters ----- \n",
      "C: 87.143273\n",
      "gamma: 0.000423 \n",
      "epsilon: 1.002995 \n",
      "----- RMSE for given values ----- \n",
      "RMSE: 5.22651\n"
     ]
    }
   ],
   "source": [
    "compute_SVM_result(c, g, e)"
   ]
  },
  {
   "cell_type": "markdown",
   "id": "supreme-findings",
   "metadata": {},
   "source": [
    "## Bayesian Optimization"
   ]
  },
  {
   "cell_type": "code",
   "execution_count": 13,
   "id": "bridal-intervention",
   "metadata": {},
   "outputs": [],
   "source": [
    "def objective_function_bo(params):\n",
    "    ''' Callable function to compare SVR scores.\n",
    "    For this example, loss will be used.\n",
    "    @params: list of params to SVR (C, gamma, epsilon and Kernel)\n",
    "    '''   \n",
    "    C =  params['C']\n",
    "    gamma = params['gamma']\n",
    "    epsilon = params['epsilon']\n",
    "    acc = hyperopt_train_test({'C': 2**C, 'gamma': 2**gamma, 'epsilon': epsilon})\n",
    "    \n",
    "    return {'loss': -acc, 'status': STATUS_OK}"
   ]
  },
  {
   "cell_type": "code",
   "execution_count": 14,
   "id": "rural-fields",
   "metadata": {
    "scrolled": false
   },
   "outputs": [
    {
     "name": "stdout",
     "output_type": "stream",
     "text": [
      "100%|█████████████████████████████████████████████| 125/125 [03:52<00:00,  1.86s/trial, best loss: -0.8247652336636048]\n"
     ]
    }
   ],
   "source": [
    "space = {\n",
    "    'C': hp.uniform('C', c_lb, c_ub),\n",
    "    'gamma': hp.uniform('gamma', g_lb, g_ub),\n",
    "    'epsilon': hp.uniform('epsilon', e_lb, e_ub)   \n",
    "}\n",
    "\n",
    "best = fmin(objective_function_bo, space, algo = tpe.suggest, max_evals = 125)\n",
    "c = 2** best['C']\n",
    "g = 2** best['gamma']\n",
    "e = best['epsilon']"
   ]
  },
  {
   "cell_type": "markdown",
   "id": "dated-borough",
   "metadata": {},
   "source": [
    "### Resultados obtidos"
   ]
  },
  {
   "cell_type": "code",
   "execution_count": 15,
   "id": "charming-friday",
   "metadata": {},
   "outputs": [
    {
     "name": "stdout",
     "output_type": "stream",
     "text": [
      "----- Best values of hyperparameters ----- \n",
      "C: 14637.801447\n",
      "gamma: 3.1e-05 \n",
      "epsilon: 0.579594 \n",
      "----- RMSE for given values ----- \n",
      "RMSE: 3.991933\n"
     ]
    }
   ],
   "source": [
    "compute_SVM_result(c, g, e)"
   ]
  },
  {
   "cell_type": "markdown",
   "id": "included-policy",
   "metadata": {},
   "source": [
    "## PSO"
   ]
  },
  {
   "cell_type": "code",
   "execution_count": 16,
   "id": "secure-supplier",
   "metadata": {},
   "outputs": [],
   "source": [
    "def objective_function_pso(x):\n",
    "    C, gamma, epsilon = x\n",
    "    kernel =  'rbf'\n",
    "    acc = hyperopt_train_test({'C': 2**C, 'gamma': 2**gamma, 'epsilon': epsilon, 'kernel': kernel})\n",
    "    return -acc"
   ]
  },
  {
   "cell_type": "code",
   "execution_count": 17,
   "id": "least-fellowship",
   "metadata": {},
   "outputs": [
    {
     "name": "stdout",
     "output_type": "stream",
     "text": [
      "Stopping search: maximum iterations reached --> 11\n"
     ]
    }
   ],
   "source": [
    "# upper and lower bounds for C, gamma and epsilon respectively\n",
    "lb = [c_lb, g_lb, e_lb]\n",
    "ub = [c_ub, g_ub, e_ub]\n",
    "\n",
    "xopt, fopt = pso(objective_function_pso, lb, ub, swarmsize = 11, maxiter = 11)\n",
    "\n",
    "c = 2** xopt[0]\n",
    "g = 2** xopt[1]\n",
    "e = xopt[2]"
   ]
  },
  {
   "cell_type": "markdown",
   "id": "alternative-tanzania",
   "metadata": {},
   "source": [
    "### Resultados obtidos"
   ]
  },
  {
   "cell_type": "code",
   "execution_count": 18,
   "id": "encouraging-realtor",
   "metadata": {},
   "outputs": [
    {
     "name": "stdout",
     "output_type": "stream",
     "text": [
      "----- Best values of hyperparameters ----- \n",
      "C: 17082.149431\n",
      "gamma: 3.1e-05 \n",
      "epsilon: 0.775143 \n",
      "----- RMSE for given values ----- \n",
      "RMSE: 3.981901\n"
     ]
    }
   ],
   "source": [
    "compute_SVM_result(c, g, e)"
   ]
  },
  {
   "cell_type": "markdown",
   "id": "absent-spring",
   "metadata": {},
   "source": [
    "## Simulated Annealing"
   ]
  },
  {
   "cell_type": "markdown",
   "id": "important-travel",
   "metadata": {},
   "source": [
    "Classe Filha do Annealing, necessária para funcionamento"
   ]
  },
  {
   "cell_type": "code",
   "execution_count": 19,
   "id": "subjective-percentage",
   "metadata": {},
   "outputs": [],
   "source": [
    "class SimulatedAnnealing(Annealer):\n",
    "    \"\"\"Test annealer to objetctive function\"\"\"\n",
    "    \n",
    "    def __init__(self, state):\n",
    "        super(SimulatedAnnealing, self).__init__(state)\n",
    "    \n",
    "    def move(self):\n",
    "        \"\"\"Swaps params of SVM.\"\"\"\n",
    "        self.state[0] = 2 ** np.random.uniform(low = c_lb, high = c_ub)\n",
    "        self.state[1] = 2 ** np.random.uniform(low = g_lb, high = g_ub)\n",
    "        self.state[2] = np.random.uniform(low = e_lb, high = e_ub)\n",
    "        \n",
    "    def energy(self):\n",
    "        \"\"\"Calculates cross validation score\"\"\"\n",
    "        C, gamma, epsilon = self.state[0], self.state[1], self.state[2]\n",
    "        kernel =  'rbf'\n",
    "        \n",
    "        return self.objective_function_sa({\n",
    "            'C': C,\n",
    "            'gamma': gamma,\n",
    "            'epsilon': epsilon,\n",
    "            'kernel': kernel\n",
    "        })\n",
    "    \n",
    "    def objective_function_sa(self, x):        \n",
    "        acc = hyperopt_train_test(x)        \n",
    "        return -acc"
   ]
  },
  {
   "cell_type": "code",
   "execution_count": 20,
   "id": "lightweight-action",
   "metadata": {},
   "outputs": [
    {
     "name": "stderr",
     "output_type": "stream",
     "text": [
      " Temperature        Energy    Accept   Improve     Elapsed   Remaining\n",
      "     2.50000          0.03   100.00%     0.00%     0:02:49     0:00:00"
     ]
    }
   ],
   "source": [
    "initial_state = [\n",
    "      2 ** np.random.uniform(low = c_lb, high = c_ub),\n",
    "      2 ** np.random.uniform(low = g_lb, high = g_ub),\n",
    "      np.random.uniform(low = e_lb, high = e_ub)    \n",
    "]\n",
    "\n",
    "sa = SimulatedAnnealing(initial_state)\n",
    "sa.steps = 125\n",
    "\n",
    "xopt, fopt = sa.anneal()\n",
    "c = xopt[0]\n",
    "g = xopt[1]\n",
    "e = xopt[2]"
   ]
  },
  {
   "cell_type": "markdown",
   "id": "southwest-satin",
   "metadata": {},
   "source": [
    "### Resultados obtidos"
   ]
  },
  {
   "cell_type": "code",
   "execution_count": 21,
   "id": "technological-third",
   "metadata": {},
   "outputs": [
    {
     "name": "stdout",
     "output_type": "stream",
     "text": [
      "----- Best values of hyperparameters ----- \n",
      "C: 2718.172374\n",
      "gamma: 9.8e-05 \n",
      "epsilon: 0.121457 \n",
      "----- RMSE for given values ----- \n",
      "RMSE: 4.31529\n"
     ]
    }
   ],
   "source": [
    "compute_SVM_result(c, g, e)"
   ]
  },
  {
   "cell_type": "markdown",
   "id": "assured-highland",
   "metadata": {},
   "source": [
    "## CMA-ES"
   ]
  },
  {
   "cell_type": "code",
   "execution_count": 22,
   "id": "labeled-victoria",
   "metadata": {},
   "outputs": [],
   "source": [
    "def objetive_function_CMA_ES(x):\n",
    "    C, gamma, epsilon = x\n",
    "    kernel =  'rbf'\n",
    "    \n",
    "    # compute cross val score with normalized hyperparams\n",
    "    acc = hyperopt_train_test({'C': 2** (c_lb + C*20),\n",
    "                               'gamma': 2** (g_lb + gamma*18),\n",
    "                               'epsilon': e_lb + epsilon*0.95 ,\n",
    "                               'kernel': kernel})\n",
    "    return -acc"
   ]
  },
  {
   "cell_type": "code",
   "execution_count": 24,
   "id": "upset-honey",
   "metadata": {},
   "outputs": [
    {
     "name": "stdout",
     "output_type": "stream",
     "text": [
      "(3_w,7)-aCMA-ES (mu_w=2.3,w_1=58%) in dimension 3 (seed=747261, Wed Apr 28 11:55:18 2021)\n",
      "Iterat #Fevals   function value  axis ratio  sigma  min&max std  t[m:s]\n",
      "    1      7 -3.161849215501714e-01 1.0e+00 2.42e-01  2e-01  3e-01 0:01.5\n",
      "    2     14 -5.906189742695303e-01 1.3e+00 2.79e-01  2e-01  4e-01 0:03.4\n",
      "    3     21 -6.706682171259113e-01 1.7e+00 2.94e-01  2e-01  4e-01 0:06.0\n",
      "    4     28 -8.213829486441921e-01 2.3e+00 3.55e-01  3e-01  6e-01 0:34.8\n",
      "    5     35 -6.780610386013299e-01 2.6e+00 4.27e-01  3e-01  7e-01 1:17.9\n",
      "    6     42 -7.402443128022795e-01 3.0e+00 4.16e-01  3e-01  7e-01 1:36.5\n",
      "    7     49 -6.895381527236459e-01 2.5e+00 3.70e-01  3e-01  5e-01 1:56.7\n",
      "    9     63 -6.429845008328915e-01 2.6e+00 3.16e-01  2e-01  4e-01 3:22.8\n",
      "   10     70 -7.416259106937801e-01 2.6e+00 3.14e-01  2e-01  3e-01 4:06.6\n",
      "   12     84 -7.746931352354519e-01 1.9e+00 2.32e-01  1e-01  2e-01 4:34.7\n",
      "   13     91 -8.080529677968983e-01 2.0e+00 1.95e-01  1e-01  2e-01 5:54.0\n",
      "   14     98 -8.137512756742638e-01 2.0e+00 1.92e-01  1e-01  1e-01 7:05.0\n",
      "   15    105 -7.799164633435346e-01 1.8e+00 2.19e-01  1e-01  2e-01 9:25.4\n",
      "   16    112 -7.762640531971401e-01 2.2e+00 1.81e-01  9e-02  1e-01 9:46.8\n",
      "   17    119 -8.260046180390657e-01 2.3e+00 1.94e-01  1e-01  2e-01 10:19.6\n",
      "   18    126 -8.239612761920622e-01 2.8e+00 1.78e-01  8e-02  2e-01 11:17.8\n",
      "   19    133 -8.281600007277561e-01 3.0e+00 1.53e-01  6e-02  1e-01 12:00.7\n",
      "   20    140 -8.267519832444725e-01 2.7e+00 1.87e-01  7e-02  1e-01 13:31.8\n",
      "   21    147 -8.324574114284491e-01 2.8e+00 2.32e-01  7e-02  2e-01 15:02.5\n",
      "   22    154 -8.295438957489510e-01 4.2e+00 2.11e-01  6e-02  2e-01 16:50.5\n",
      "   23    161 -8.270783822415473e-01 4.8e+00 2.43e-01  5e-02  3e-01 17:54.1\n",
      "   24    168 -8.315710679777943e-01 5.9e+00 2.22e-01  4e-02  2e-01 19:50.7\n",
      "   25    175 -8.304685379093746e-01 6.6e+00 1.81e-01  3e-02  2e-01 21:16.7\n",
      "   26    182 -8.325488373535830e-01 6.9e+00 1.65e-01  3e-02  2e-01 23:08.2\n",
      "   27    189 -8.326409726264019e-01 7.7e+00 1.50e-01  2e-02  1e-01 26:23.8\n",
      "   28    196 -8.315053820810648e-01 9.3e+00 1.43e-01  2e-02  1e-01 28:22.6\n",
      "   29    203 -8.320219923451045e-01 1.0e+01 1.33e-01  2e-02  1e-01 30:52.1\n",
      "   30    210 -8.313363240016198e-01 1.1e+01 1.28e-01  2e-02  1e-01 32:36.4\n",
      "   31    217 -8.319472959442255e-01 1.2e+01 1.18e-01  2e-02  1e-01 34:56.3\n",
      "   32    224 -8.322636810973110e-01 1.0e+01 1.16e-01  1e-02  1e-01 37:19.1\n",
      "   33    231 -8.318724261876749e-01 1.2e+01 1.13e-01  1e-02  9e-02 39:29.5\n",
      "   34    238 -8.324551766191937e-01 9.2e+00 1.45e-01  2e-02  1e-01 41:17.9\n",
      "   35    245 -8.328123308043700e-01 7.0e+00 1.40e-01  2e-02  1e-01 43:55.2\n",
      "   36    252 -8.330384117533282e-01 7.0e+00 1.21e-01  2e-02  7e-02 45:57.5\n",
      "   37    259 -8.324946017289137e-01 6.2e+00 1.24e-01  1e-02  7e-02 48:37.9\n",
      "   38    266 -8.329022547179026e-01 5.5e+00 1.05e-01  1e-02  6e-02 51:06.6\n",
      "   39    273 -8.322015811156632e-01 5.6e+00 7.75e-02  8e-03  4e-02 52:58.3\n",
      "   40    280 -8.330057873465607e-01 5.0e+00 6.21e-02  6e-03  3e-02 54:32.7\n",
      "   41    287 -8.329951102497107e-01 5.3e+00 4.89e-02  4e-03  2e-02 55:46.1\n",
      "   42    294 -8.332001014967088e-01 5.6e+00 6.06e-02  5e-03  4e-02 57:09.8\n",
      "   43    301 -8.333172563559801e-01 7.9e+00 1.03e-01  8e-03  7e-02 58:36.7\n",
      "   44    308 -8.332672862032264e-01 9.0e+00 1.24e-01  1e-02  8e-02 60:08.3\n",
      "   45    315 -8.332199178557961e-01 8.4e+00 1.12e-01  8e-03  6e-02 61:35.9\n",
      "   46    322 -8.332711416506111e-01 7.3e+00 9.49e-02  7e-03  5e-02 63:02.3\n",
      "   47    329 -8.332076755666373e-01 7.3e+00 8.75e-02  5e-03  5e-02 64:39.2\n",
      "   48    336 -8.332452044330318e-01 9.1e+00 8.93e-02  6e-03  5e-02 66:16.5\n",
      "   49    343 -8.332441620407796e-01 7.3e+00 9.96e-02  8e-03  5e-02 67:48.5\n",
      "   50    350 -8.330584953829325e-01 6.0e+00 1.03e-01  8e-03  5e-02 69:18.6\n",
      "   51    357 -8.331798361657121e-01 5.9e+00 8.32e-02  6e-03  4e-02 70:52.6\n",
      "   52    364 -8.331872355712620e-01 6.7e+00 6.85e-02  5e-03  3e-02 72:28.3\n",
      "   53    371 -8.333735796783273e-01 6.6e+00 6.12e-02  4e-03  2e-02 74:05.1\n",
      "   54    378 -8.333473504286582e-01 6.8e+00 5.88e-02  4e-03  2e-02 75:47.0\n",
      "   56    392 -8.333308543341609e-01 5.9e+00 5.45e-02  4e-03  2e-02 77:14.8\n",
      "   58    406 -8.334048860094349e-01 5.2e+00 4.76e-02  3e-03  2e-02 78:43.3\n",
      "   60    420 -8.334326074288210e-01 6.6e+00 4.53e-02  3e-03  1e-02 80:16.7\n",
      "   61    427 -8.334053017974259e-01 7.8e+00 3.67e-02  2e-03  1e-02 81:12.5\n",
      "   63    441 -8.333993718474753e-01 6.9e+00 2.70e-02  1e-03  7e-03 82:52.4\n",
      "   65    455 -8.334030003470403e-01 7.8e+00 2.97e-02  2e-03  7e-03 84:35.1\n",
      "   67    469 -8.334239253568347e-01 6.4e+00 2.41e-02  1e-03  4e-03 86:12.3\n",
      "   69    483 -8.334106542772919e-01 6.1e+00 1.97e-02  8e-04  3e-03 87:47.7\n",
      "   71    497 -8.333829358196161e-01 6.0e+00 1.66e-02  7e-04  2e-03 89:26.2\n",
      "   73    511 -8.334530536228737e-01 4.0e+00 1.54e-02  5e-04  2e-03 91:06.6\n",
      "   75    525 -8.333040202462536e-01 5.2e+00 1.17e-02  3e-04  1e-03 92:46.5\n",
      "   77    539 -8.333561104277484e-01 4.8e+00 1.03e-02  2e-04  1e-03 94:27.4\n",
      "   79    553 -8.333268735400189e-01 4.8e+00 8.36e-03  2e-04  7e-04 96:06.2\n",
      "   81    567 -8.334731816265112e-01 5.1e+00 8.99e-03  2e-04  7e-04 97:46.7\n",
      "   83    581 -8.333903937113047e-01 4.8e+00 7.96e-03  2e-04  7e-04 99:26.6\n",
      "   85    595 -8.334264429671236e-01 6.5e+00 6.12e-03  1e-04  5e-04 101:39.1\n",
      "   86    602 -8.333738779303065e-01 6.6e+00 6.63e-03  1e-04  6e-04 102:49.2\n",
      "   87    609 -8.334759092132001e-01 6.3e+00 8.87e-03  2e-04  7e-04 104:12.0\n",
      "   88    616 -8.333537481159123e-01 4.8e+00 7.12e-03  2e-04  6e-04 106:27.1\n",
      "   89    623 -8.333434938891504e-01 4.5e+00 6.06e-03  1e-04  4e-04 109:06.2\n",
      "   90    630 -8.333747778666586e-01 4.6e+00 5.02e-03  9e-05  3e-04 111:32.2\n",
      "   91    637 -8.334017037250556e-01 5.3e+00 5.66e-03  1e-04  5e-04 113:58.5\n",
      "   92    644 -8.333394794143224e-01 6.2e+00 6.37e-03  2e-04  5e-04 116:09.8\n",
      "   93    651 -8.334099624760309e-01 6.1e+00 5.91e-03  1e-04  5e-04 118:38.2\n",
      "   94    658 -8.333923362009698e-01 6.5e+00 4.68e-03  1e-04  3e-04 120:40.5\n",
      "   95    665 -8.333588683495814e-01 6.0e+00 5.40e-03  1e-04  4e-04 123:06.6\n",
      "   96    672 -8.333532761552190e-01 5.7e+00 5.38e-03  1e-04  3e-04 125:20.1\n",
      "   97    679 -8.334374637464714e-01 5.0e+00 4.95e-03  1e-04  3e-04 127:44.6\n",
      "   98    686 -8.333650789574953e-01 5.0e+00 4.32e-03  9e-05  2e-04 130:03.5\n",
      "   99    693 -8.334113257699322e-01 6.1e+00 3.94e-03  8e-05  2e-04 132:34.7\n",
      "  100    700 -8.333683675906280e-01 5.9e+00 3.98e-03  8e-05  2e-04 134:54.9\n",
      "  101    707 -8.334319109171536e-01 5.4e+00 4.55e-03  1e-04  2e-04 137:12.2\n",
      "  102    714 -8.333932517834567e-01 5.8e+00 5.03e-03  1e-04  2e-04 139:23.4\n",
      "  103    721 -8.333421494540343e-01 5.7e+00 4.61e-03  1e-04  2e-04 141:55.1\n",
      "  104    728 -8.334696474219075e-01 5.4e+00 4.16e-03  9e-05  2e-04 144:09.5\n",
      "  105    735 -8.334476533583078e-01 5.5e+00 4.20e-03  1e-04  2e-04 145:49.2\n",
      "  107    749 -8.333581296496183e-01 5.0e+00 4.38e-03  1e-04  2e-04 148:03.8\n",
      "  109    763 -8.334230704587849e-01 5.3e+00 6.38e-03  2e-04  3e-04 149:42.3\n",
      "  111    777 -8.333878278366275e-01 9.8e+00 6.28e-03  2e-04  3e-04 151:27.2\n",
      "  113    791 -8.334360667020935e-01 1.1e+01 5.57e-03  2e-04  3e-04 153:24.9\n",
      "  115    805 -8.334081688003154e-01 1.1e+01 5.90e-03  2e-04  3e-04 155:06.4\n",
      "  117    819 -8.333917604478561e-01 1.3e+01 5.42e-03  1e-04  3e-04 156:52.7\n",
      "  119    833 -8.333930953656334e-01 1.1e+01 6.14e-03  2e-04  3e-04 158:27.6\n",
      "  122    854 -8.333720450301655e-01 9.8e+00 7.47e-03  2e-04  4e-04 160:48.0\n",
      "  124    868 -8.333165388888139e-01 9.9e+00 1.16e-02  3e-04  7e-04 162:25.0\n"
     ]
    }
   ],
   "source": [
    "# Define initial bounds\n",
    "lw = [0.0, 0.0, 0.0]\n",
    "up = [1.0, 1.0, 1.0]\n",
    "\n",
    "# Initial values\n",
    "x0 = 3 * [0.05]\n",
    "sigma = 0.25\n",
    "\n",
    "result = CMAEvolutionStrategy(x0, sigma, {'bounds': [lw, up]})\n",
    "result.optimize(objetive_function_CMA_ES, iterations = 125)\n",
    "\n",
    "# extract best hyperparameters values normalizing it\n",
    "c = 2 ** (c_lb + result.best.x[0] * 20)\n",
    "g = 2 ** (g_lb + result.best.x[1] * 18)\n",
    "e = e_lb + result.best.x[2]*0.95"
   ]
  },
  {
   "cell_type": "markdown",
   "id": "prescription-impression",
   "metadata": {},
   "source": [
    "### Resultados obtidos"
   ]
  },
  {
   "cell_type": "code",
   "execution_count": 25,
   "id": "fatal-hurricane",
   "metadata": {
    "scrolled": true
   },
   "outputs": [
    {
     "name": "stdout",
     "output_type": "stream",
     "text": [
      "----- Best values of hyperparameters ----- \n",
      "C: 22610.006226\n",
      "gamma: 3.1e-05 \n",
      "epsilon: 0.050666 \n",
      "----- RMSE for given values ----- \n",
      "RMSE: 4.183407\n"
     ]
    }
   ],
   "source": [
    "compute_SVM_result(c, g, e)"
   ]
  }
 ],
 "metadata": {
  "kernelspec": {
   "display_name": "Python 3",
   "language": "python",
   "name": "python3"
  },
  "language_info": {
   "codemirror_mode": {
    "name": "ipython",
    "version": 3
   },
   "file_extension": ".py",
   "mimetype": "text/x-python",
   "name": "python",
   "nbconvert_exporter": "python",
   "pygments_lexer": "ipython3",
   "version": "3.8.6"
  }
 },
 "nbformat": 4,
 "nbformat_minor": 5
}
